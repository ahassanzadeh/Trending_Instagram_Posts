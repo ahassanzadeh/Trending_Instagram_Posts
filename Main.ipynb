{
  "nbformat": 4,
  "nbformat_minor": 0,
  "metadata": {
    "colab": {
      "name": "Main.ipynb",
      "provenance": [],
      "mount_file_id": "1jsKcMzlOdexojZ0kDgsf97EVgNthA5FY",
      "authorship_tag": "ABX9TyMp4hd6B8vhweMkIvw4VwgQ",
      "include_colab_link": true
    },
    "kernelspec": {
      "name": "python3",
      "display_name": "Python 3"
    }
  },
  "cells": [
    {
      "cell_type": "markdown",
      "metadata": {
        "id": "view-in-github",
        "colab_type": "text"
      },
      "source": [
        "<a href=\"https://colab.research.google.com/github/ahassanzadeh/Trending_Instagram_Posts/blob/master/Main.ipynb\" target=\"_parent\"><img src=\"https://colab.research.google.com/assets/colab-badge.svg\" alt=\"Open In Colab\"/></a>"
      ]
    },
    {
      "cell_type": "code",
      "metadata": {
        "id": "zwbgzrjqeVuR",
        "colab_type": "code",
        "colab": {
          "base_uri": "https://localhost:8080/",
          "height": 51
        },
        "outputId": "e30766ee-8788-46ce-adce-a0ef0cf0f495"
      },
      "source": [
        "#Major libraries\n",
        "import pandas as pd \n",
        "import numpy as np\n",
        "import matplotlib.pyplot as plt \n",
        "import seaborn as sns\n",
        "import copy as cp\n",
        "from datetime import datetime\n",
        "import warnings\n",
        "warnings.filterwarnings(\"ignore\")"
      ],
      "execution_count": null,
      "outputs": [
        {
          "output_type": "stream",
          "text": [
            "/usr/local/lib/python3.6/dist-packages/statsmodels/tools/_testing.py:19: FutureWarning: pandas.util.testing is deprecated. Use the functions in the public API at pandas.testing instead.\n",
            "  import pandas.util.testing as tm\n"
          ],
          "name": "stderr"
        }
      ]
    },
    {
      "cell_type": "code",
      "metadata": {
        "id": "uPJC3X3pwiNo",
        "colab_type": "code",
        "colab": {}
      },
      "source": [
        "#Cross Validattion tools \n",
        "from sklearn import datasets\n",
        "from sklearn.feature_selection import RFE\n",
        "from sklearn.model_selection import train_test_split\n",
        "from sklearn.model_selection import cross_val_score\n",
        "from sklearn.model_selection import KFold\n",
        "from sklearn.pipeline import Pipeline\n",
        "from sklearn.preprocessing import StandardScaler"
      ],
      "execution_count": null,
      "outputs": []
    },
    {
      "cell_type": "code",
      "metadata": {
        "id": "2qiyrg94Qk52",
        "colab_type": "code",
        "colab": {}
      },
      "source": [
        "#Import Supervised Learning models \n",
        "from sklearn.linear_model import LinearRegression\n",
        "from sklearn.linear_model import Lasso\n",
        "from sklearn.linear_model import ElasticNet\n",
        "from sklearn.linear_model import Ridge\n",
        "from sklearn.linear_model import BayesianRidge\n",
        "from sklearn.tree import DecisionTreeRegressor\n",
        "from sklearn.neighbors import KNeighborsRegressor\n",
        "from sklearn.ensemble import GradientBoostingRegressor\n",
        "from sklearn import svm\n",
        "import xgboost as xgb"
      ],
      "execution_count": null,
      "outputs": []
    },
    {
      "cell_type": "markdown",
      "metadata": {
        "id": "c-cJ2U158wgr",
        "colab_type": "text"
      },
      "source": [
        "# Data Visualization "
      ]
    },
    {
      "cell_type": "code",
      "metadata": {
        "id": "0_Rkoqlle3t9",
        "colab_type": "code",
        "colab": {}
      },
      "source": [
        "# connect to google drive and extract csv files\n",
        "metrics= pd.read_csv('/content/drive/My Drive/Projects/FINESSE/post_metrics_and_comments.csv')"
      ],
      "execution_count": null,
      "outputs": []
    },
    {
      "cell_type": "code",
      "metadata": {
        "id": "NQ_ZY7YKe4rY",
        "colab_type": "code",
        "colab": {
          "base_uri": "https://localhost:8080/",
          "height": 391
        },
        "outputId": "8fc0d529-171d-41cb-b351-32ecfb7d87dd"
      },
      "source": [
        "metrics.head()"
      ],
      "execution_count": null,
      "outputs": [
        {
          "output_type": "execute_result",
          "data": {
            "text/html": [
              "<div>\n",
              "<style scoped>\n",
              "    .dataframe tbody tr th:only-of-type {\n",
              "        vertical-align: middle;\n",
              "    }\n",
              "\n",
              "    .dataframe tbody tr th {\n",
              "        vertical-align: top;\n",
              "    }\n",
              "\n",
              "    .dataframe thead th {\n",
              "        text-align: right;\n",
              "    }\n",
              "</style>\n",
              "<table border=\"1\" class=\"dataframe\">\n",
              "  <thead>\n",
              "    <tr style=\"text-align: right;\">\n",
              "      <th></th>\n",
              "      <th>post_url</th>\n",
              "      <th>username</th>\n",
              "      <th>date_posted</th>\n",
              "      <th>img_urls</th>\n",
              "      <th>caption</th>\n",
              "      <th>max_likes</th>\n",
              "      <th>max_comments</th>\n",
              "      <th>max_views</th>\n",
              "      <th>followers</th>\n",
              "      <th>following</th>\n",
              "      <th>concatenated_comments</th>\n",
              "    </tr>\n",
              "  </thead>\n",
              "  <tbody>\n",
              "    <tr>\n",
              "      <th>0</th>\n",
              "      <td>https://www.instagram.com/p/B-y2oOeDpj2/</td>\n",
              "      <td>064_steady</td>\n",
              "      <td>2020-04-10</td>\n",
              "      <td>{https://finesse-instagram-post-images.s3-us-w...</td>\n",
              "      <td>온라인개학으로 아침마다 아이들에게 모닝콜을 해줄 수 있어서 행복합니다. 하하하하😭 ...</td>\n",
              "      <td>1019</td>\n",
              "      <td>38</td>\n",
              "      <td>NaN</td>\n",
              "      <td>8423</td>\n",
              "      <td>697</td>\n",
              "      <td>@_o9.02 가입하자 연재야😘|아고 ㅠㅠㅠㅠ 힘드실텐데 아자아자 화이팅입니다 !!...</td>\n",
              "    </tr>\n",
              "    <tr>\n",
              "      <th>1</th>\n",
              "      <td>https://www.instagram.com/p/B_B4e5qDtOU/</td>\n",
              "      <td>064_steady</td>\n",
              "      <td>2020-04-16</td>\n",
              "      <td>{https://finesse-instagram-post-images.s3-us-w...</td>\n",
              "      <td>2014. 04. 16. 우리 모두 웃을 수 있기를... more</td>\n",
              "      <td>1039</td>\n",
              "      <td>12</td>\n",
              "      <td>NaN</td>\n",
              "      <td>8423</td>\n",
              "      <td>697</td>\n",
              "      <td>@nam_bbs 정말요?🙌|옷입는 스타일 너무너무 멋있으세요 ☺️|코디 너무 좋아요...</td>\n",
              "    </tr>\n",
              "    <tr>\n",
              "      <th>2</th>\n",
              "      <td>https://www.instagram.com/p/B-3-Skoj2ub/</td>\n",
              "      <td>064_steady</td>\n",
              "      <td>2020-04-12</td>\n",
              "      <td>{https://finesse-instagram-post-images.s3-us-w...</td>\n",
              "      <td>내일이 월요일이니까 웃자😁... more</td>\n",
              "      <td>764</td>\n",
              "      <td>35</td>\n",
              "      <td>NaN</td>\n",
              "      <td>8423</td>\n",
              "      <td>697</td>\n",
              "      <td>❤️|헐 선생님....멋져요....♥️|워료일 쪼아~ 최고로 쪼아~|Very sum...</td>\n",
              "    </tr>\n",
              "    <tr>\n",
              "      <th>3</th>\n",
              "      <td>https://www.instagram.com/p/B_UhfCuDnJU/</td>\n",
              "      <td>064_steady</td>\n",
              "      <td>2020-04-23</td>\n",
              "      <td>{https://finesse-instagram-post-images.s3-us-w...</td>\n",
              "      <td>너무 배불러요 ㅠㅠㅠ... more</td>\n",
              "      <td>779</td>\n",
              "      <td>56</td>\n",
              "      <td>NaN</td>\n",
              "      <td>8423</td>\n",
              "      <td>697</td>\n",
              "      <td>ㅋㅋㅋㅋㅋㅋㅋㅋㅋㅋ배불러졌다는게 너무 웃겨욬ㅋㅋㅋㅋㅋ|깔끔한 쓰앵님🤭👍🏿|😍😍😍😍❤...</td>\n",
              "    </tr>\n",
              "    <tr>\n",
              "      <th>4</th>\n",
              "      <td>https://www.instagram.com/p/B-6isIeD-0-/</td>\n",
              "      <td>064_steady</td>\n",
              "      <td>2020-04-13</td>\n",
              "      <td>{https://finesse-instagram-post-images.s3-us-w...</td>\n",
              "      <td>월요병 극복🥴</td>\n",
              "      <td>733</td>\n",
              "      <td>26</td>\n",
              "      <td>NaN</td>\n",
              "      <td>8423</td>\n",
              "      <td>697</td>\n",
              "      <td>극복 나이스👍🏻|@mndp404 시간은 결국 흐르니 ㅠㅠ|내일도 화요팅~!|@yeo...</td>\n",
              "    </tr>\n",
              "  </tbody>\n",
              "</table>\n",
              "</div>"
            ],
            "text/plain": [
              "                                   post_url  ...                              concatenated_comments\n",
              "0  https://www.instagram.com/p/B-y2oOeDpj2/  ...  @_o9.02 가입하자 연재야😘|아고 ㅠㅠㅠㅠ 힘드실텐데 아자아자 화이팅입니다 !!...\n",
              "1  https://www.instagram.com/p/B_B4e5qDtOU/  ...  @nam_bbs 정말요?🙌|옷입는 스타일 너무너무 멋있으세요 ☺️|코디 너무 좋아요...\n",
              "2  https://www.instagram.com/p/B-3-Skoj2ub/  ...  ❤️|헐 선생님....멋져요....♥️|워료일 쪼아~ 최고로 쪼아~|Very sum...\n",
              "3  https://www.instagram.com/p/B_UhfCuDnJU/  ...  ㅋㅋㅋㅋㅋㅋㅋㅋㅋㅋ배불러졌다는게 너무 웃겨욬ㅋㅋㅋㅋㅋ|깔끔한 쓰앵님🤭👍🏿|😍😍😍😍❤...\n",
              "4  https://www.instagram.com/p/B-6isIeD-0-/  ...  극복 나이스👍🏻|@mndp404 시간은 결국 흐르니 ㅠㅠ|내일도 화요팅~!|@yeo...\n",
              "\n",
              "[5 rows x 11 columns]"
            ]
          },
          "metadata": {
            "tags": []
          },
          "execution_count": 5
        }
      ]
    },
    {
      "cell_type": "code",
      "metadata": {
        "id": "Ib2c8PdEOZ-7",
        "colab_type": "code",
        "colab": {
          "base_uri": "https://localhost:8080/",
          "height": 289
        },
        "outputId": "15505022-c817-4b61-f4a1-1d962455fbe5"
      },
      "source": [
        "# make a copy of original drive for modifications\n",
        "new_metrics = cp.deepcopy(metrics)\n",
        "# remove Null values\n",
        "new_metrics.dropna(axis= 1, inplace= True)\n",
        "new_metrics.info()"
      ],
      "execution_count": null,
      "outputs": [
        {
          "output_type": "stream",
          "text": [
            "<class 'pandas.core.frame.DataFrame'>\n",
            "RangeIndex: 11637 entries, 0 to 11636\n",
            "Data columns (total 9 columns):\n",
            " #   Column                 Non-Null Count  Dtype \n",
            "---  ------                 --------------  ----- \n",
            " 0   post_url               11637 non-null  object\n",
            " 1   username               11637 non-null  object\n",
            " 2   date_posted            11637 non-null  object\n",
            " 3   img_urls               11637 non-null  object\n",
            " 4   max_likes              11637 non-null  int64 \n",
            " 5   max_comments           11637 non-null  int64 \n",
            " 6   followers              11637 non-null  int64 \n",
            " 7   following              11637 non-null  int64 \n",
            " 8   concatenated_comments  11637 non-null  object\n",
            "dtypes: int64(4), object(5)\n",
            "memory usage: 818.4+ KB\n"
          ],
          "name": "stdout"
        }
      ]
    },
    {
      "cell_type": "markdown",
      "metadata": {
        "id": "yjDFwOePzEW8",
        "colab_type": "text"
      },
      "source": [
        "Since we have the maximum number of likes for each post(max_likes), the main criteria for trending post can be ** the number of likes divided by mean(average) of likes for each username assigned to all the post_url**. it also can simply called **weighted_mean_likes**. Therefore we use feature engineering to extract features that help our regression model to predict the **weighted_mean_likes** more accuretely. "
      ]
    },
    {
      "cell_type": "markdown",
      "metadata": {
        "id": "cww8NPXG0FPJ",
        "colab_type": "text"
      },
      "source": [
        "# Feature Engineering \n",
        "## Median, means and weighted mean of likes and comments\n",
        "Adding mean of likes/comments and weighted mean of likes/comments as 4 new features"
      ]
    },
    {
      "cell_type": "code",
      "metadata": {
        "id": "Szp-lu4BTu_g",
        "colab_type": "code",
        "colab": {
          "base_uri": "https://localhost:8080/",
          "height": 564
        },
        "outputId": "db94df12-b2bb-4b71-80d0-fe236048284d"
      },
      "source": [
        "\n",
        "def weighted_mean_columns(dataframe, col, new_col):\n",
        "  mean = dataframe.groupby('username')[col].mean()\n",
        "\n",
        "  # def weighted_average(matrix, col_name)\n",
        "  hash ={}\n",
        "  for idx in range(len(mean)):\n",
        "    hash[mean.index[idx]] = mean[idx]\n",
        "\n",
        "  dataframe[new_col] = None\n",
        "  for idx in range(len(dataframe)):\n",
        "    username = dataframe.username[idx]\n",
        "    dataframe[new_col][idx] = round(dataframe[col][idx].astype(float) / hash[username] , 6 )\n",
        "\n",
        "def mean(dataframe, col, new_col):\n",
        "  mean = dataframe.groupby('username')[col].mean()\n",
        "  hash = {}\n",
        "  for idx in range(len(mean)):\n",
        "    hash[mean.index[idx]] = mean[idx]\n",
        "  dataframe[new_col] = None\n",
        "  for idx in range(len(dataframe)):\n",
        "    username = dataframe.username[idx]\n",
        "    dataframe[new_col][idx] = round(hash[username] , 6)\n",
        "\n",
        "def median(dataframe, col, new_col):\n",
        "  median = dataframe.groupby('username')[col].median()\n",
        "  hash = {}\n",
        "  for idx in range(len(median)):\n",
        "    hash[median.index[idx]] = median[idx]\n",
        "  \n",
        "  dataframe[new_col] = None\n",
        "  for idx in range(len(dataframe)):\n",
        "    username = dataframe.username[idx]\n",
        "    dataframe[new_col][idx] = round(hash[username] , 6)\n",
        "\n",
        "\n",
        "# running functions\n",
        "weighted_mean_columns(new_metrics, 'max_likes', 'weighted_mean_likes')\n",
        "weighted_mean_columns(new_metrics, 'max_comments', 'weighted_mean_comments')\n",
        "mean(new_metrics, 'max_likes', 'mean_likes')\n",
        "mean(new_metrics, 'max_comments', 'mean_comments')\n",
        "median(new_metrics, 'max_likes', 'median_likes')\n",
        "\n",
        "\n",
        "# changing the data type from object to float \n",
        "new_metrics['weighted_mean_likes'] = new_metrics['weighted_mean_likes'].astype(float)\n",
        "new_metrics['weighted_mean_comments'] = new_metrics['weighted_mean_comments'].astype(float)\n",
        "new_metrics['mean_likes'] = new_metrics['mean_likes'].astype(float)\n",
        "new_metrics['mean_comments'] = new_metrics['mean_comments'].astype(float)\n",
        "new_metrics['median_likes'] = new_metrics['median_likes'].astype(float)\n",
        "\n",
        "new_metrics.head()"
      ],
      "execution_count": null,
      "outputs": [
        {
          "output_type": "execute_result",
          "data": {
            "text/html": [
              "<div>\n",
              "<style scoped>\n",
              "    .dataframe tbody tr th:only-of-type {\n",
              "        vertical-align: middle;\n",
              "    }\n",
              "\n",
              "    .dataframe tbody tr th {\n",
              "        vertical-align: top;\n",
              "    }\n",
              "\n",
              "    .dataframe thead th {\n",
              "        text-align: right;\n",
              "    }\n",
              "</style>\n",
              "<table border=\"1\" class=\"dataframe\">\n",
              "  <thead>\n",
              "    <tr style=\"text-align: right;\">\n",
              "      <th></th>\n",
              "      <th>post_url</th>\n",
              "      <th>username</th>\n",
              "      <th>date_posted</th>\n",
              "      <th>img_urls</th>\n",
              "      <th>max_likes</th>\n",
              "      <th>max_comments</th>\n",
              "      <th>followers</th>\n",
              "      <th>following</th>\n",
              "      <th>concatenated_comments</th>\n",
              "      <th>weighted_mean_likes</th>\n",
              "      <th>weighted_mean_comments</th>\n",
              "      <th>mean_likes</th>\n",
              "      <th>mean_comments</th>\n",
              "      <th>median_likes</th>\n",
              "    </tr>\n",
              "  </thead>\n",
              "  <tbody>\n",
              "    <tr>\n",
              "      <th>0</th>\n",
              "      <td>https://www.instagram.com/p/B-y2oOeDpj2/</td>\n",
              "      <td>064_steady</td>\n",
              "      <td>2020-04-10</td>\n",
              "      <td>{https://finesse-instagram-post-images.s3-us-w...</td>\n",
              "      <td>1019</td>\n",
              "      <td>38</td>\n",
              "      <td>8423</td>\n",
              "      <td>697</td>\n",
              "      <td>@_o9.02 가입하자 연재야😘|아고 ㅠㅠㅠㅠ 힘드실텐데 아자아자 화이팅입니다 !!...</td>\n",
              "      <td>1.111434</td>\n",
              "      <td>1.024719</td>\n",
              "      <td>916.833333</td>\n",
              "      <td>37.083333</td>\n",
              "      <td>891.5</td>\n",
              "    </tr>\n",
              "    <tr>\n",
              "      <th>1</th>\n",
              "      <td>https://www.instagram.com/p/B_B4e5qDtOU/</td>\n",
              "      <td>064_steady</td>\n",
              "      <td>2020-04-16</td>\n",
              "      <td>{https://finesse-instagram-post-images.s3-us-w...</td>\n",
              "      <td>1039</td>\n",
              "      <td>12</td>\n",
              "      <td>8423</td>\n",
              "      <td>697</td>\n",
              "      <td>@nam_bbs 정말요?🙌|옷입는 스타일 너무너무 멋있으세요 ☺️|코디 너무 좋아요...</td>\n",
              "      <td>1.133249</td>\n",
              "      <td>0.323596</td>\n",
              "      <td>916.833333</td>\n",
              "      <td>37.083333</td>\n",
              "      <td>891.5</td>\n",
              "    </tr>\n",
              "    <tr>\n",
              "      <th>2</th>\n",
              "      <td>https://www.instagram.com/p/B-3-Skoj2ub/</td>\n",
              "      <td>064_steady</td>\n",
              "      <td>2020-04-12</td>\n",
              "      <td>{https://finesse-instagram-post-images.s3-us-w...</td>\n",
              "      <td>764</td>\n",
              "      <td>35</td>\n",
              "      <td>8423</td>\n",
              "      <td>697</td>\n",
              "      <td>❤️|헐 선생님....멋져요....♥️|워료일 쪼아~ 최고로 쪼아~|Very sum...</td>\n",
              "      <td>0.833303</td>\n",
              "      <td>0.943820</td>\n",
              "      <td>916.833333</td>\n",
              "      <td>37.083333</td>\n",
              "      <td>891.5</td>\n",
              "    </tr>\n",
              "    <tr>\n",
              "      <th>3</th>\n",
              "      <td>https://www.instagram.com/p/B_UhfCuDnJU/</td>\n",
              "      <td>064_steady</td>\n",
              "      <td>2020-04-23</td>\n",
              "      <td>{https://finesse-instagram-post-images.s3-us-w...</td>\n",
              "      <td>779</td>\n",
              "      <td>56</td>\n",
              "      <td>8423</td>\n",
              "      <td>697</td>\n",
              "      <td>ㅋㅋㅋㅋㅋㅋㅋㅋㅋㅋ배불러졌다는게 너무 웃겨욬ㅋㅋㅋㅋㅋ|깔끔한 쓰앵님🤭👍🏿|😍😍😍😍❤...</td>\n",
              "      <td>0.849664</td>\n",
              "      <td>1.510112</td>\n",
              "      <td>916.833333</td>\n",
              "      <td>37.083333</td>\n",
              "      <td>891.5</td>\n",
              "    </tr>\n",
              "    <tr>\n",
              "      <th>4</th>\n",
              "      <td>https://www.instagram.com/p/B-6isIeD-0-/</td>\n",
              "      <td>064_steady</td>\n",
              "      <td>2020-04-13</td>\n",
              "      <td>{https://finesse-instagram-post-images.s3-us-w...</td>\n",
              "      <td>733</td>\n",
              "      <td>26</td>\n",
              "      <td>8423</td>\n",
              "      <td>697</td>\n",
              "      <td>극복 나이스👍🏻|@mndp404 시간은 결국 흐르니 ㅠㅠ|내일도 화요팅~!|@yeo...</td>\n",
              "      <td>0.799491</td>\n",
              "      <td>0.701124</td>\n",
              "      <td>916.833333</td>\n",
              "      <td>37.083333</td>\n",
              "      <td>891.5</td>\n",
              "    </tr>\n",
              "  </tbody>\n",
              "</table>\n",
              "</div>"
            ],
            "text/plain": [
              "                                   post_url  ... median_likes\n",
              "0  https://www.instagram.com/p/B-y2oOeDpj2/  ...        891.5\n",
              "1  https://www.instagram.com/p/B_B4e5qDtOU/  ...        891.5\n",
              "2  https://www.instagram.com/p/B-3-Skoj2ub/  ...        891.5\n",
              "3  https://www.instagram.com/p/B_UhfCuDnJU/  ...        891.5\n",
              "4  https://www.instagram.com/p/B-6isIeD-0-/  ...        891.5\n",
              "\n",
              "[5 rows x 14 columns]"
            ]
          },
          "metadata": {
            "tags": []
          },
          "execution_count": 7
        }
      ]
    },
    {
      "cell_type": "code",
      "metadata": {
        "id": "f3xY6tyHNy1b",
        "colab_type": "code",
        "colab": {
          "base_uri": "https://localhost:8080/",
          "height": 272
        },
        "outputId": "e991ba50-aee3-4553-b90e-2ee568e463bb"
      },
      "source": [
        "# remove all the null values\n",
        "new_metrics.dropna(axis=0, inplace=True)\n",
        "new_metrics.isnull().sum()"
      ],
      "execution_count": null,
      "outputs": [
        {
          "output_type": "execute_result",
          "data": {
            "text/plain": [
              "post_url                  0\n",
              "username                  0\n",
              "date_posted               0\n",
              "img_urls                  0\n",
              "max_likes                 0\n",
              "max_comments              0\n",
              "followers                 0\n",
              "following                 0\n",
              "concatenated_comments     0\n",
              "weighted_mean_likes       0\n",
              "weighted_mean_comments    0\n",
              "mean_likes                0\n",
              "mean_comments             0\n",
              "median_likes              0\n",
              "dtype: int64"
            ]
          },
          "metadata": {
            "tags": []
          },
          "execution_count": 8
        }
      ]
    },
    {
      "cell_type": "markdown",
      "metadata": {
        "id": "xIG4_teo1azy",
        "colab_type": "text"
      },
      "source": [
        "## Adding days of week(Monday, Tuesday, ...)"
      ]
    },
    {
      "cell_type": "code",
      "metadata": {
        "id": "nXWViOQrzMLz",
        "colab_type": "code",
        "colab": {
          "base_uri": "https://localhost:8080/",
          "height": 51
        },
        "outputId": "76ee8410-ca3c-4d06-87a5-f5786bf46590"
      },
      "source": [
        "#find the start and end date of data\n",
        "print(new_metrics['date_posted'].min())\n",
        "print(new_metrics['date_posted'].max())"
      ],
      "execution_count": null,
      "outputs": [
        {
          "output_type": "stream",
          "text": [
            "2020-04-01\n",
            "2020-04-26\n"
          ],
          "name": "stdout"
        }
      ]
    },
    {
      "cell_type": "code",
      "metadata": {
        "id": "a49ljBHRakhp",
        "colab_type": "code",
        "colab": {
          "base_uri": "https://localhost:8080/",
          "height": 564
        },
        "outputId": "cdb04042-03c2-46a0-c759-4edf7ad8202f"
      },
      "source": [
        "# Adding days as a features\n",
        "new_metrics['Monday'] = 0 \n",
        "new_metrics['Tuesday'] = 0 \n",
        "new_metrics['Wednesday'] = 0 \n",
        "new_metrics['Thursday'] = 0 \n",
        "new_metrics['Friday'] = 0 \n",
        "new_metrics['Saturday'] = 0 \n",
        "new_metrics['Sunday'] = 0 \n",
        "\n",
        "for i, dates in enumerate(new_metrics['date_posted']):\n",
        "  if i == 0:\n",
        "    start_day = datetime(2020,4,1)\n",
        "  date_time = datetime.strptime(dates, f'%Y-%m-%d')\n",
        "  n = (date_time - start_day).days %7\n",
        "  if n==0:\n",
        "    new_metrics['Wednesday'][i] = 1\n",
        "  elif n==1:\n",
        "    new_metrics['Thursday'][i] = 1\n",
        "  elif n==2:\n",
        "    new_metrics['Friday'][i] = 1\n",
        "  elif n==3:\n",
        "    new_metrics['Saturday'][i] = 1\n",
        "  elif n==4:\n",
        "    new_metrics['Sunday'][i] = 1\n",
        "  elif n==5:\n",
        "    new_metrics['Monday'][i] = 1\n",
        "  elif n==6:\n",
        "    new_metrics['Tuesday'][i] =1\n",
        "\n",
        "new_metrics.head()"
      ],
      "execution_count": null,
      "outputs": [
        {
          "output_type": "execute_result",
          "data": {
            "text/html": [
              "<div>\n",
              "<style scoped>\n",
              "    .dataframe tbody tr th:only-of-type {\n",
              "        vertical-align: middle;\n",
              "    }\n",
              "\n",
              "    .dataframe tbody tr th {\n",
              "        vertical-align: top;\n",
              "    }\n",
              "\n",
              "    .dataframe thead th {\n",
              "        text-align: right;\n",
              "    }\n",
              "</style>\n",
              "<table border=\"1\" class=\"dataframe\">\n",
              "  <thead>\n",
              "    <tr style=\"text-align: right;\">\n",
              "      <th></th>\n",
              "      <th>post_url</th>\n",
              "      <th>username</th>\n",
              "      <th>date_posted</th>\n",
              "      <th>img_urls</th>\n",
              "      <th>max_likes</th>\n",
              "      <th>max_comments</th>\n",
              "      <th>followers</th>\n",
              "      <th>following</th>\n",
              "      <th>concatenated_comments</th>\n",
              "      <th>weighted_mean_likes</th>\n",
              "      <th>weighted_mean_comments</th>\n",
              "      <th>mean_likes</th>\n",
              "      <th>mean_comments</th>\n",
              "      <th>median_likes</th>\n",
              "      <th>Monday</th>\n",
              "      <th>Tuesday</th>\n",
              "      <th>Wednesday</th>\n",
              "      <th>Thursday</th>\n",
              "      <th>Friday</th>\n",
              "      <th>Saturday</th>\n",
              "      <th>Sunday</th>\n",
              "    </tr>\n",
              "  </thead>\n",
              "  <tbody>\n",
              "    <tr>\n",
              "      <th>0</th>\n",
              "      <td>https://www.instagram.com/p/B-y2oOeDpj2/</td>\n",
              "      <td>064_steady</td>\n",
              "      <td>2020-04-10</td>\n",
              "      <td>{https://finesse-instagram-post-images.s3-us-w...</td>\n",
              "      <td>1019</td>\n",
              "      <td>38</td>\n",
              "      <td>8423</td>\n",
              "      <td>697</td>\n",
              "      <td>@_o9.02 가입하자 연재야😘|아고 ㅠㅠㅠㅠ 힘드실텐데 아자아자 화이팅입니다 !!...</td>\n",
              "      <td>1.111434</td>\n",
              "      <td>1.024719</td>\n",
              "      <td>916.833333</td>\n",
              "      <td>37.083333</td>\n",
              "      <td>891.5</td>\n",
              "      <td>0</td>\n",
              "      <td>0</td>\n",
              "      <td>0</td>\n",
              "      <td>0</td>\n",
              "      <td>1</td>\n",
              "      <td>0</td>\n",
              "      <td>0</td>\n",
              "    </tr>\n",
              "    <tr>\n",
              "      <th>1</th>\n",
              "      <td>https://www.instagram.com/p/B_B4e5qDtOU/</td>\n",
              "      <td>064_steady</td>\n",
              "      <td>2020-04-16</td>\n",
              "      <td>{https://finesse-instagram-post-images.s3-us-w...</td>\n",
              "      <td>1039</td>\n",
              "      <td>12</td>\n",
              "      <td>8423</td>\n",
              "      <td>697</td>\n",
              "      <td>@nam_bbs 정말요?🙌|옷입는 스타일 너무너무 멋있으세요 ☺️|코디 너무 좋아요...</td>\n",
              "      <td>1.133249</td>\n",
              "      <td>0.323596</td>\n",
              "      <td>916.833333</td>\n",
              "      <td>37.083333</td>\n",
              "      <td>891.5</td>\n",
              "      <td>0</td>\n",
              "      <td>0</td>\n",
              "      <td>0</td>\n",
              "      <td>1</td>\n",
              "      <td>0</td>\n",
              "      <td>0</td>\n",
              "      <td>0</td>\n",
              "    </tr>\n",
              "    <tr>\n",
              "      <th>2</th>\n",
              "      <td>https://www.instagram.com/p/B-3-Skoj2ub/</td>\n",
              "      <td>064_steady</td>\n",
              "      <td>2020-04-12</td>\n",
              "      <td>{https://finesse-instagram-post-images.s3-us-w...</td>\n",
              "      <td>764</td>\n",
              "      <td>35</td>\n",
              "      <td>8423</td>\n",
              "      <td>697</td>\n",
              "      <td>❤️|헐 선생님....멋져요....♥️|워료일 쪼아~ 최고로 쪼아~|Very sum...</td>\n",
              "      <td>0.833303</td>\n",
              "      <td>0.943820</td>\n",
              "      <td>916.833333</td>\n",
              "      <td>37.083333</td>\n",
              "      <td>891.5</td>\n",
              "      <td>0</td>\n",
              "      <td>0</td>\n",
              "      <td>0</td>\n",
              "      <td>0</td>\n",
              "      <td>0</td>\n",
              "      <td>0</td>\n",
              "      <td>1</td>\n",
              "    </tr>\n",
              "    <tr>\n",
              "      <th>3</th>\n",
              "      <td>https://www.instagram.com/p/B_UhfCuDnJU/</td>\n",
              "      <td>064_steady</td>\n",
              "      <td>2020-04-23</td>\n",
              "      <td>{https://finesse-instagram-post-images.s3-us-w...</td>\n",
              "      <td>779</td>\n",
              "      <td>56</td>\n",
              "      <td>8423</td>\n",
              "      <td>697</td>\n",
              "      <td>ㅋㅋㅋㅋㅋㅋㅋㅋㅋㅋ배불러졌다는게 너무 웃겨욬ㅋㅋㅋㅋㅋ|깔끔한 쓰앵님🤭👍🏿|😍😍😍😍❤...</td>\n",
              "      <td>0.849664</td>\n",
              "      <td>1.510112</td>\n",
              "      <td>916.833333</td>\n",
              "      <td>37.083333</td>\n",
              "      <td>891.5</td>\n",
              "      <td>0</td>\n",
              "      <td>0</td>\n",
              "      <td>0</td>\n",
              "      <td>1</td>\n",
              "      <td>0</td>\n",
              "      <td>0</td>\n",
              "      <td>0</td>\n",
              "    </tr>\n",
              "    <tr>\n",
              "      <th>4</th>\n",
              "      <td>https://www.instagram.com/p/B-6isIeD-0-/</td>\n",
              "      <td>064_steady</td>\n",
              "      <td>2020-04-13</td>\n",
              "      <td>{https://finesse-instagram-post-images.s3-us-w...</td>\n",
              "      <td>733</td>\n",
              "      <td>26</td>\n",
              "      <td>8423</td>\n",
              "      <td>697</td>\n",
              "      <td>극복 나이스👍🏻|@mndp404 시간은 결국 흐르니 ㅠㅠ|내일도 화요팅~!|@yeo...</td>\n",
              "      <td>0.799491</td>\n",
              "      <td>0.701124</td>\n",
              "      <td>916.833333</td>\n",
              "      <td>37.083333</td>\n",
              "      <td>891.5</td>\n",
              "      <td>1</td>\n",
              "      <td>0</td>\n",
              "      <td>0</td>\n",
              "      <td>0</td>\n",
              "      <td>0</td>\n",
              "      <td>0</td>\n",
              "      <td>0</td>\n",
              "    </tr>\n",
              "  </tbody>\n",
              "</table>\n",
              "</div>"
            ],
            "text/plain": [
              "                                   post_url    username  ... Saturday Sunday\n",
              "0  https://www.instagram.com/p/B-y2oOeDpj2/  064_steady  ...        0      0\n",
              "1  https://www.instagram.com/p/B_B4e5qDtOU/  064_steady  ...        0      0\n",
              "2  https://www.instagram.com/p/B-3-Skoj2ub/  064_steady  ...        0      1\n",
              "3  https://www.instagram.com/p/B_UhfCuDnJU/  064_steady  ...        0      0\n",
              "4  https://www.instagram.com/p/B-6isIeD-0-/  064_steady  ...        0      0\n",
              "\n",
              "[5 rows x 21 columns]"
            ]
          },
          "metadata": {
            "tags": []
          },
          "execution_count": 10
        }
      ]
    },
    {
      "cell_type": "markdown",
      "metadata": {
        "id": "uEL6iVAwX6CC",
        "colab_type": "text"
      },
      "source": [
        "## Adding days that days that post was in top trending hashtags:  "
      ]
    },
    {
      "cell_type": "code",
      "metadata": {
        "id": "Z2pwTo9RX5Jm",
        "colab_type": "code",
        "colab": {
          "base_uri": "https://localhost:8080/",
          "height": 170
        },
        "outputId": "cab9c63c-c732-4b30-ccd9-12f1351a7fd7"
      },
      "source": [
        "hashtags = pd.read_csv('/content/drive/My Drive/Projects/FINESSE/hashtag_top_appearances.csv')\n",
        "hashtags.head()\n",
        "hashtags['post_url'] = hashtags['post_url'].astype(str)\n",
        "hashtags.info()"
      ],
      "execution_count": null,
      "outputs": [
        {
          "output_type": "stream",
          "text": [
            "<class 'pandas.core.frame.DataFrame'>\n",
            "RangeIndex: 25062 entries, 0 to 25061\n",
            "Data columns (total 2 columns):\n",
            " #   Column                       Non-Null Count  Dtype \n",
            "---  ------                       --------------  ----- \n",
            " 0   post_url                     25062 non-null  object\n",
            " 1   days_in_hashtag_top_section  25062 non-null  int64 \n",
            "dtypes: int64(1), object(1)\n",
            "memory usage: 391.7+ KB\n"
          ],
          "name": "stdout"
        }
      ]
    },
    {
      "cell_type": "code",
      "metadata": {
        "id": "Oukm0nxdZNzn",
        "colab_type": "code",
        "colab": {
          "base_uri": "https://localhost:8080/",
          "height": 564
        },
        "outputId": "fe07c3b7-e8e7-404a-d8c1-aeea3974d254"
      },
      "source": [
        "new_metrics['days_in_hashtag_top_section'] = 0 \n",
        "for idx, hashtag1 in enumerate(new_metrics['post_url']):\n",
        "  for idx2, hashtag2 in enumerate(hashtags['post_url']):\n",
        "    if hashtag2 == hashtag1:\n",
        "      new_metrics['days_in_hashtag_top_section'][idx] = hashtags['days_in_hashtag_top_section'][idx2]\n",
        "      break\n",
        "    \n",
        "new_metrics.head()"
      ],
      "execution_count": null,
      "outputs": [
        {
          "output_type": "execute_result",
          "data": {
            "text/html": [
              "<div>\n",
              "<style scoped>\n",
              "    .dataframe tbody tr th:only-of-type {\n",
              "        vertical-align: middle;\n",
              "    }\n",
              "\n",
              "    .dataframe tbody tr th {\n",
              "        vertical-align: top;\n",
              "    }\n",
              "\n",
              "    .dataframe thead th {\n",
              "        text-align: right;\n",
              "    }\n",
              "</style>\n",
              "<table border=\"1\" class=\"dataframe\">\n",
              "  <thead>\n",
              "    <tr style=\"text-align: right;\">\n",
              "      <th></th>\n",
              "      <th>post_url</th>\n",
              "      <th>username</th>\n",
              "      <th>date_posted</th>\n",
              "      <th>img_urls</th>\n",
              "      <th>max_likes</th>\n",
              "      <th>max_comments</th>\n",
              "      <th>followers</th>\n",
              "      <th>following</th>\n",
              "      <th>concatenated_comments</th>\n",
              "      <th>weighted_mean_likes</th>\n",
              "      <th>weighted_mean_comments</th>\n",
              "      <th>mean_likes</th>\n",
              "      <th>mean_comments</th>\n",
              "      <th>median_likes</th>\n",
              "      <th>Monday</th>\n",
              "      <th>Tuesday</th>\n",
              "      <th>Wednesday</th>\n",
              "      <th>Thursday</th>\n",
              "      <th>Friday</th>\n",
              "      <th>Saturday</th>\n",
              "      <th>Sunday</th>\n",
              "      <th>days_in_hashtag_top_section</th>\n",
              "    </tr>\n",
              "  </thead>\n",
              "  <tbody>\n",
              "    <tr>\n",
              "      <th>0</th>\n",
              "      <td>https://www.instagram.com/p/B-y2oOeDpj2/</td>\n",
              "      <td>064_steady</td>\n",
              "      <td>2020-04-10</td>\n",
              "      <td>{https://finesse-instagram-post-images.s3-us-w...</td>\n",
              "      <td>1019</td>\n",
              "      <td>38</td>\n",
              "      <td>8423</td>\n",
              "      <td>697</td>\n",
              "      <td>@_o9.02 가입하자 연재야😘|아고 ㅠㅠㅠㅠ 힘드실텐데 아자아자 화이팅입니다 !!...</td>\n",
              "      <td>1.111434</td>\n",
              "      <td>1.024719</td>\n",
              "      <td>916.833333</td>\n",
              "      <td>37.083333</td>\n",
              "      <td>891.5</td>\n",
              "      <td>0</td>\n",
              "      <td>0</td>\n",
              "      <td>0</td>\n",
              "      <td>0</td>\n",
              "      <td>1</td>\n",
              "      <td>0</td>\n",
              "      <td>0</td>\n",
              "      <td>0</td>\n",
              "    </tr>\n",
              "    <tr>\n",
              "      <th>1</th>\n",
              "      <td>https://www.instagram.com/p/B_B4e5qDtOU/</td>\n",
              "      <td>064_steady</td>\n",
              "      <td>2020-04-16</td>\n",
              "      <td>{https://finesse-instagram-post-images.s3-us-w...</td>\n",
              "      <td>1039</td>\n",
              "      <td>12</td>\n",
              "      <td>8423</td>\n",
              "      <td>697</td>\n",
              "      <td>@nam_bbs 정말요?🙌|옷입는 스타일 너무너무 멋있으세요 ☺️|코디 너무 좋아요...</td>\n",
              "      <td>1.133249</td>\n",
              "      <td>0.323596</td>\n",
              "      <td>916.833333</td>\n",
              "      <td>37.083333</td>\n",
              "      <td>891.5</td>\n",
              "      <td>0</td>\n",
              "      <td>0</td>\n",
              "      <td>0</td>\n",
              "      <td>1</td>\n",
              "      <td>0</td>\n",
              "      <td>0</td>\n",
              "      <td>0</td>\n",
              "      <td>0</td>\n",
              "    </tr>\n",
              "    <tr>\n",
              "      <th>2</th>\n",
              "      <td>https://www.instagram.com/p/B-3-Skoj2ub/</td>\n",
              "      <td>064_steady</td>\n",
              "      <td>2020-04-12</td>\n",
              "      <td>{https://finesse-instagram-post-images.s3-us-w...</td>\n",
              "      <td>764</td>\n",
              "      <td>35</td>\n",
              "      <td>8423</td>\n",
              "      <td>697</td>\n",
              "      <td>❤️|헐 선생님....멋져요....♥️|워료일 쪼아~ 최고로 쪼아~|Very sum...</td>\n",
              "      <td>0.833303</td>\n",
              "      <td>0.943820</td>\n",
              "      <td>916.833333</td>\n",
              "      <td>37.083333</td>\n",
              "      <td>891.5</td>\n",
              "      <td>0</td>\n",
              "      <td>0</td>\n",
              "      <td>0</td>\n",
              "      <td>0</td>\n",
              "      <td>0</td>\n",
              "      <td>0</td>\n",
              "      <td>1</td>\n",
              "      <td>0</td>\n",
              "    </tr>\n",
              "    <tr>\n",
              "      <th>3</th>\n",
              "      <td>https://www.instagram.com/p/B_UhfCuDnJU/</td>\n",
              "      <td>064_steady</td>\n",
              "      <td>2020-04-23</td>\n",
              "      <td>{https://finesse-instagram-post-images.s3-us-w...</td>\n",
              "      <td>779</td>\n",
              "      <td>56</td>\n",
              "      <td>8423</td>\n",
              "      <td>697</td>\n",
              "      <td>ㅋㅋㅋㅋㅋㅋㅋㅋㅋㅋ배불러졌다는게 너무 웃겨욬ㅋㅋㅋㅋㅋ|깔끔한 쓰앵님🤭👍🏿|😍😍😍😍❤...</td>\n",
              "      <td>0.849664</td>\n",
              "      <td>1.510112</td>\n",
              "      <td>916.833333</td>\n",
              "      <td>37.083333</td>\n",
              "      <td>891.5</td>\n",
              "      <td>0</td>\n",
              "      <td>0</td>\n",
              "      <td>0</td>\n",
              "      <td>1</td>\n",
              "      <td>0</td>\n",
              "      <td>0</td>\n",
              "      <td>0</td>\n",
              "      <td>0</td>\n",
              "    </tr>\n",
              "    <tr>\n",
              "      <th>4</th>\n",
              "      <td>https://www.instagram.com/p/B-6isIeD-0-/</td>\n",
              "      <td>064_steady</td>\n",
              "      <td>2020-04-13</td>\n",
              "      <td>{https://finesse-instagram-post-images.s3-us-w...</td>\n",
              "      <td>733</td>\n",
              "      <td>26</td>\n",
              "      <td>8423</td>\n",
              "      <td>697</td>\n",
              "      <td>극복 나이스👍🏻|@mndp404 시간은 결국 흐르니 ㅠㅠ|내일도 화요팅~!|@yeo...</td>\n",
              "      <td>0.799491</td>\n",
              "      <td>0.701124</td>\n",
              "      <td>916.833333</td>\n",
              "      <td>37.083333</td>\n",
              "      <td>891.5</td>\n",
              "      <td>1</td>\n",
              "      <td>0</td>\n",
              "      <td>0</td>\n",
              "      <td>0</td>\n",
              "      <td>0</td>\n",
              "      <td>0</td>\n",
              "      <td>0</td>\n",
              "      <td>0</td>\n",
              "    </tr>\n",
              "  </tbody>\n",
              "</table>\n",
              "</div>"
            ],
            "text/plain": [
              "                                   post_url  ... days_in_hashtag_top_section\n",
              "0  https://www.instagram.com/p/B-y2oOeDpj2/  ...                           0\n",
              "1  https://www.instagram.com/p/B_B4e5qDtOU/  ...                           0\n",
              "2  https://www.instagram.com/p/B-3-Skoj2ub/  ...                           0\n",
              "3  https://www.instagram.com/p/B_UhfCuDnJU/  ...                           0\n",
              "4  https://www.instagram.com/p/B-6isIeD-0-/  ...                           0\n",
              "\n",
              "[5 rows x 22 columns]"
            ]
          },
          "metadata": {
            "tags": []
          },
          "execution_count": 12
        }
      ]
    },
    {
      "cell_type": "markdown",
      "metadata": {
        "id": "cuHAg05_5JDP",
        "colab_type": "text"
      },
      "source": [
        "# Adding number of posts for each username "
      ]
    },
    {
      "cell_type": "code",
      "metadata": {
        "id": "7-o_aRiI5IZa",
        "colab_type": "code",
        "colab": {
          "base_uri": "https://localhost:8080/",
          "height": 564
        },
        "outputId": "e1634572-47a6-489f-e324-7eb0ec4f051f"
      },
      "source": [
        "new_metrics['number_of_posts'] = 0\n",
        "dummy = new_metrics.groupby('username')['post_url'].count()\n",
        "for idx, line in enumerate(new_metrics['username']):\n",
        "  new_metrics['number_of_posts'][idx] = dummy[line]\n",
        "new_metrics.head()"
      ],
      "execution_count": null,
      "outputs": [
        {
          "output_type": "execute_result",
          "data": {
            "text/html": [
              "<div>\n",
              "<style scoped>\n",
              "    .dataframe tbody tr th:only-of-type {\n",
              "        vertical-align: middle;\n",
              "    }\n",
              "\n",
              "    .dataframe tbody tr th {\n",
              "        vertical-align: top;\n",
              "    }\n",
              "\n",
              "    .dataframe thead th {\n",
              "        text-align: right;\n",
              "    }\n",
              "</style>\n",
              "<table border=\"1\" class=\"dataframe\">\n",
              "  <thead>\n",
              "    <tr style=\"text-align: right;\">\n",
              "      <th></th>\n",
              "      <th>post_url</th>\n",
              "      <th>username</th>\n",
              "      <th>date_posted</th>\n",
              "      <th>img_urls</th>\n",
              "      <th>max_likes</th>\n",
              "      <th>max_comments</th>\n",
              "      <th>followers</th>\n",
              "      <th>following</th>\n",
              "      <th>concatenated_comments</th>\n",
              "      <th>weighted_mean_likes</th>\n",
              "      <th>weighted_mean_comments</th>\n",
              "      <th>mean_likes</th>\n",
              "      <th>mean_comments</th>\n",
              "      <th>median_likes</th>\n",
              "      <th>Monday</th>\n",
              "      <th>Tuesday</th>\n",
              "      <th>Wednesday</th>\n",
              "      <th>Thursday</th>\n",
              "      <th>Friday</th>\n",
              "      <th>Saturday</th>\n",
              "      <th>Sunday</th>\n",
              "      <th>days_in_hashtag_top_section</th>\n",
              "      <th>number_of_posts</th>\n",
              "    </tr>\n",
              "  </thead>\n",
              "  <tbody>\n",
              "    <tr>\n",
              "      <th>0</th>\n",
              "      <td>https://www.instagram.com/p/B-y2oOeDpj2/</td>\n",
              "      <td>064_steady</td>\n",
              "      <td>2020-04-10</td>\n",
              "      <td>{https://finesse-instagram-post-images.s3-us-w...</td>\n",
              "      <td>1019</td>\n",
              "      <td>38</td>\n",
              "      <td>8423</td>\n",
              "      <td>697</td>\n",
              "      <td>@_o9.02 가입하자 연재야😘|아고 ㅠㅠㅠㅠ 힘드실텐데 아자아자 화이팅입니다 !!...</td>\n",
              "      <td>1.111434</td>\n",
              "      <td>1.024719</td>\n",
              "      <td>916.833333</td>\n",
              "      <td>37.083333</td>\n",
              "      <td>891.5</td>\n",
              "      <td>0</td>\n",
              "      <td>0</td>\n",
              "      <td>0</td>\n",
              "      <td>0</td>\n",
              "      <td>1</td>\n",
              "      <td>0</td>\n",
              "      <td>0</td>\n",
              "      <td>0</td>\n",
              "      <td>12</td>\n",
              "    </tr>\n",
              "    <tr>\n",
              "      <th>1</th>\n",
              "      <td>https://www.instagram.com/p/B_B4e5qDtOU/</td>\n",
              "      <td>064_steady</td>\n",
              "      <td>2020-04-16</td>\n",
              "      <td>{https://finesse-instagram-post-images.s3-us-w...</td>\n",
              "      <td>1039</td>\n",
              "      <td>12</td>\n",
              "      <td>8423</td>\n",
              "      <td>697</td>\n",
              "      <td>@nam_bbs 정말요?🙌|옷입는 스타일 너무너무 멋있으세요 ☺️|코디 너무 좋아요...</td>\n",
              "      <td>1.133249</td>\n",
              "      <td>0.323596</td>\n",
              "      <td>916.833333</td>\n",
              "      <td>37.083333</td>\n",
              "      <td>891.5</td>\n",
              "      <td>0</td>\n",
              "      <td>0</td>\n",
              "      <td>0</td>\n",
              "      <td>1</td>\n",
              "      <td>0</td>\n",
              "      <td>0</td>\n",
              "      <td>0</td>\n",
              "      <td>0</td>\n",
              "      <td>12</td>\n",
              "    </tr>\n",
              "    <tr>\n",
              "      <th>2</th>\n",
              "      <td>https://www.instagram.com/p/B-3-Skoj2ub/</td>\n",
              "      <td>064_steady</td>\n",
              "      <td>2020-04-12</td>\n",
              "      <td>{https://finesse-instagram-post-images.s3-us-w...</td>\n",
              "      <td>764</td>\n",
              "      <td>35</td>\n",
              "      <td>8423</td>\n",
              "      <td>697</td>\n",
              "      <td>❤️|헐 선생님....멋져요....♥️|워료일 쪼아~ 최고로 쪼아~|Very sum...</td>\n",
              "      <td>0.833303</td>\n",
              "      <td>0.943820</td>\n",
              "      <td>916.833333</td>\n",
              "      <td>37.083333</td>\n",
              "      <td>891.5</td>\n",
              "      <td>0</td>\n",
              "      <td>0</td>\n",
              "      <td>0</td>\n",
              "      <td>0</td>\n",
              "      <td>0</td>\n",
              "      <td>0</td>\n",
              "      <td>1</td>\n",
              "      <td>0</td>\n",
              "      <td>12</td>\n",
              "    </tr>\n",
              "    <tr>\n",
              "      <th>3</th>\n",
              "      <td>https://www.instagram.com/p/B_UhfCuDnJU/</td>\n",
              "      <td>064_steady</td>\n",
              "      <td>2020-04-23</td>\n",
              "      <td>{https://finesse-instagram-post-images.s3-us-w...</td>\n",
              "      <td>779</td>\n",
              "      <td>56</td>\n",
              "      <td>8423</td>\n",
              "      <td>697</td>\n",
              "      <td>ㅋㅋㅋㅋㅋㅋㅋㅋㅋㅋ배불러졌다는게 너무 웃겨욬ㅋㅋㅋㅋㅋ|깔끔한 쓰앵님🤭👍🏿|😍😍😍😍❤...</td>\n",
              "      <td>0.849664</td>\n",
              "      <td>1.510112</td>\n",
              "      <td>916.833333</td>\n",
              "      <td>37.083333</td>\n",
              "      <td>891.5</td>\n",
              "      <td>0</td>\n",
              "      <td>0</td>\n",
              "      <td>0</td>\n",
              "      <td>1</td>\n",
              "      <td>0</td>\n",
              "      <td>0</td>\n",
              "      <td>0</td>\n",
              "      <td>0</td>\n",
              "      <td>12</td>\n",
              "    </tr>\n",
              "    <tr>\n",
              "      <th>4</th>\n",
              "      <td>https://www.instagram.com/p/B-6isIeD-0-/</td>\n",
              "      <td>064_steady</td>\n",
              "      <td>2020-04-13</td>\n",
              "      <td>{https://finesse-instagram-post-images.s3-us-w...</td>\n",
              "      <td>733</td>\n",
              "      <td>26</td>\n",
              "      <td>8423</td>\n",
              "      <td>697</td>\n",
              "      <td>극복 나이스👍🏻|@mndp404 시간은 결국 흐르니 ㅠㅠ|내일도 화요팅~!|@yeo...</td>\n",
              "      <td>0.799491</td>\n",
              "      <td>0.701124</td>\n",
              "      <td>916.833333</td>\n",
              "      <td>37.083333</td>\n",
              "      <td>891.5</td>\n",
              "      <td>1</td>\n",
              "      <td>0</td>\n",
              "      <td>0</td>\n",
              "      <td>0</td>\n",
              "      <td>0</td>\n",
              "      <td>0</td>\n",
              "      <td>0</td>\n",
              "      <td>0</td>\n",
              "      <td>12</td>\n",
              "    </tr>\n",
              "  </tbody>\n",
              "</table>\n",
              "</div>"
            ],
            "text/plain": [
              "                                   post_url  ... number_of_posts\n",
              "0  https://www.instagram.com/p/B-y2oOeDpj2/  ...              12\n",
              "1  https://www.instagram.com/p/B_B4e5qDtOU/  ...              12\n",
              "2  https://www.instagram.com/p/B-3-Skoj2ub/  ...              12\n",
              "3  https://www.instagram.com/p/B_UhfCuDnJU/  ...              12\n",
              "4  https://www.instagram.com/p/B-6isIeD-0-/  ...              12\n",
              "\n",
              "[5 rows x 23 columns]"
            ]
          },
          "metadata": {
            "tags": []
          },
          "execution_count": 13
        }
      ]
    },
    {
      "cell_type": "markdown",
      "metadata": {
        "id": "Zag8kbtK1ukV",
        "colab_type": "text"
      },
      "source": [
        "# Correlation Analysis"
      ]
    },
    {
      "cell_type": "markdown",
      "metadata": {
        "id": "B2wehO3J-ecO",
        "colab_type": "text"
      },
      "source": [
        "Find the correlation of other parameters to "
      ]
    },
    {
      "cell_type": "code",
      "metadata": {
        "id": "sX-qQNB4hAVT",
        "colab_type": "code",
        "colab": {
          "base_uri": "https://localhost:8080/",
          "height": 655
        },
        "outputId": "5788739f-311c-4686-981b-c67d8297f8b4"
      },
      "source": [
        "correlation = new_metrics.corr(method='spearman')\n",
        "columns = correlation.nlargest(10, 'weighted_mean_likes').index\n",
        "correlation_map = np.corrcoef(new_metrics[columns].values.T)\n",
        "sns.set(font_scale=0.6)\n",
        "sns.set(rc={'figure.figsize':(11.7,8.27)})\n",
        "heatmap = sns.heatmap(correlation_map, cbar=True, annot=True, square=True, fmt='.2f', yticklabels=columns.values, xticklabels=columns.values)\n",
        "plt.show()"
      ],
      "execution_count": null,
      "outputs": [
        {
          "output_type": "display_data",
          "data": {
            "image/png": "[encoded data removed]",
            "text/plain": [
              "<Figure size 842.4x595.44 with 2 Axes>"
            ]
          },
          "metadata": {
            "tags": []
          }
        }
      ]
    },
    {
      "cell_type": "markdown",
      "metadata": {
        "id": "q91NdFqJslhC",
        "colab_type": "text"
      },
      "source": [
        " # The most significant correlations are listed below:"
      ]
    },
    {
      "cell_type": "code",
      "metadata": {
        "id": "fuGy8m_pq82_",
        "colab_type": "code",
        "colab": {
          "base_uri": "https://localhost:8080/",
          "height": 514
        },
        "outputId": "c9147ed4-ccbf-4869-8eef-bc55957c839e"
      },
      "source": [
        "correlations=new_metrics.corr()\n",
        "attrs = correlations.iloc[:-1,:-1] # all except target\n",
        "\n",
        "threshold = 0.5\n",
        "important_corrs = (attrs[abs(attrs) > threshold][attrs != 1.0]).unstack().dropna().to_dict()\n",
        "\n",
        "unique_important_corrs = pd.DataFrame(\n",
        "    list(set([(tuple(sorted(key)), important_corrs[key]) \\\n",
        "    for key in important_corrs])), \n",
        "        columns=['Attribute Pair', 'Correlation'])\n",
        "\n",
        "    # sorted by absolute value\n",
        "unique_important_corrs = unique_important_corrs.loc[\n",
        "    abs(unique_important_corrs['Correlation']).argsort()[::-1]]\n",
        "\n",
        "unique_important_corrs"
      ],
      "execution_count": null,
      "outputs": [
        {
          "output_type": "execute_result",
          "data": {
            "text/html": [
              "<div>\n",
              "<style scoped>\n",
              "    .dataframe tbody tr th:only-of-type {\n",
              "        vertical-align: middle;\n",
              "    }\n",
              "\n",
              "    .dataframe tbody tr th {\n",
              "        vertical-align: top;\n",
              "    }\n",
              "\n",
              "    .dataframe thead th {\n",
              "        text-align: right;\n",
              "    }\n",
              "</style>\n",
              "<table border=\"1\" class=\"dataframe\">\n",
              "  <thead>\n",
              "    <tr style=\"text-align: right;\">\n",
              "      <th></th>\n",
              "      <th>Attribute Pair</th>\n",
              "      <th>Correlation</th>\n",
              "    </tr>\n",
              "  </thead>\n",
              "  <tbody>\n",
              "    <tr>\n",
              "      <th>1</th>\n",
              "      <td>(mean_likes, median_likes)</td>\n",
              "      <td>0.998792</td>\n",
              "    </tr>\n",
              "    <tr>\n",
              "      <th>6</th>\n",
              "      <td>(max_likes, mean_likes)</td>\n",
              "      <td>0.958116</td>\n",
              "    </tr>\n",
              "    <tr>\n",
              "      <th>12</th>\n",
              "      <td>(max_likes, median_likes)</td>\n",
              "      <td>0.956959</td>\n",
              "    </tr>\n",
              "    <tr>\n",
              "      <th>14</th>\n",
              "      <td>(max_comments, mean_comments)</td>\n",
              "      <td>0.934610</td>\n",
              "    </tr>\n",
              "    <tr>\n",
              "      <th>7</th>\n",
              "      <td>(mean_comments, median_likes)</td>\n",
              "      <td>0.862048</td>\n",
              "    </tr>\n",
              "    <tr>\n",
              "      <th>9</th>\n",
              "      <td>(mean_comments, mean_likes)</td>\n",
              "      <td>0.854096</td>\n",
              "    </tr>\n",
              "    <tr>\n",
              "      <th>0</th>\n",
              "      <td>(max_likes, mean_comments)</td>\n",
              "      <td>0.818323</td>\n",
              "    </tr>\n",
              "    <tr>\n",
              "      <th>13</th>\n",
              "      <td>(max_comments, median_likes)</td>\n",
              "      <td>0.805678</td>\n",
              "    </tr>\n",
              "    <tr>\n",
              "      <th>5</th>\n",
              "      <td>(followers, mean_likes)</td>\n",
              "      <td>0.804404</td>\n",
              "    </tr>\n",
              "    <tr>\n",
              "      <th>8</th>\n",
              "      <td>(max_comments, mean_likes)</td>\n",
              "      <td>0.798246</td>\n",
              "    </tr>\n",
              "    <tr>\n",
              "      <th>11</th>\n",
              "      <td>(followers, median_likes)</td>\n",
              "      <td>0.795132</td>\n",
              "    </tr>\n",
              "    <tr>\n",
              "      <th>2</th>\n",
              "      <td>(max_comments, max_likes)</td>\n",
              "      <td>0.789558</td>\n",
              "    </tr>\n",
              "    <tr>\n",
              "      <th>10</th>\n",
              "      <td>(followers, max_likes)</td>\n",
              "      <td>0.770712</td>\n",
              "    </tr>\n",
              "    <tr>\n",
              "      <th>3</th>\n",
              "      <td>(followers, mean_comments)</td>\n",
              "      <td>0.638732</td>\n",
              "    </tr>\n",
              "    <tr>\n",
              "      <th>4</th>\n",
              "      <td>(followers, max_comments)</td>\n",
              "      <td>0.596965</td>\n",
              "    </tr>\n",
              "  </tbody>\n",
              "</table>\n",
              "</div>"
            ],
            "text/plain": [
              "                   Attribute Pair  Correlation\n",
              "1      (mean_likes, median_likes)     0.998792\n",
              "6         (max_likes, mean_likes)     0.958116\n",
              "12      (max_likes, median_likes)     0.956959\n",
              "14  (max_comments, mean_comments)     0.934610\n",
              "7   (mean_comments, median_likes)     0.862048\n",
              "9     (mean_comments, mean_likes)     0.854096\n",
              "0      (max_likes, mean_comments)     0.818323\n",
              "13   (max_comments, median_likes)     0.805678\n",
              "5         (followers, mean_likes)     0.804404\n",
              "8      (max_comments, mean_likes)     0.798246\n",
              "11      (followers, median_likes)     0.795132\n",
              "2       (max_comments, max_likes)     0.789558\n",
              "10         (followers, max_likes)     0.770712\n",
              "3      (followers, mean_comments)     0.638732\n",
              "4       (followers, max_comments)     0.596965"
            ]
          },
          "metadata": {
            "tags": []
          },
          "execution_count": 15
        }
      ]
    },
    {
      "cell_type": "code",
      "metadata": {
        "id": "gXnjlZUUqf8O",
        "colab_type": "code",
        "colab": {
          "base_uri": "https://localhost:8080/",
          "height": 297
        },
        "outputId": "1276fc1c-a245-46bc-8775-5e8825a6b8ca"
      },
      "source": [
        "new_metrics[['Monday', 'Tuesday', 'Wednesday', 'Thursday', 'Friday','Saturday','Sunday','weighted_mean_likes']].groupby(['Monday', 'Tuesday', 'Wednesday', 'Thursday', 'Friday','Saturday','Sunday'],\n",
        "as_index=False).mean().sort_values(by='Sunday', ascending=False)"
      ],
      "execution_count": null,
      "outputs": [
        {
          "output_type": "execute_result",
          "data": {
            "text/html": [
              "<div>\n",
              "<style scoped>\n",
              "    .dataframe tbody tr th:only-of-type {\n",
              "        vertical-align: middle;\n",
              "    }\n",
              "\n",
              "    .dataframe tbody tr th {\n",
              "        vertical-align: top;\n",
              "    }\n",
              "\n",
              "    .dataframe thead th {\n",
              "        text-align: right;\n",
              "    }\n",
              "</style>\n",
              "<table border=\"1\" class=\"dataframe\">\n",
              "  <thead>\n",
              "    <tr style=\"text-align: right;\">\n",
              "      <th></th>\n",
              "      <th>Monday</th>\n",
              "      <th>Tuesday</th>\n",
              "      <th>Wednesday</th>\n",
              "      <th>Thursday</th>\n",
              "      <th>Friday</th>\n",
              "      <th>Saturday</th>\n",
              "      <th>Sunday</th>\n",
              "      <th>weighted_mean_likes</th>\n",
              "    </tr>\n",
              "  </thead>\n",
              "  <tbody>\n",
              "    <tr>\n",
              "      <th>1</th>\n",
              "      <td>0</td>\n",
              "      <td>0</td>\n",
              "      <td>0</td>\n",
              "      <td>0</td>\n",
              "      <td>0</td>\n",
              "      <td>0</td>\n",
              "      <td>1</td>\n",
              "      <td>1.018463</td>\n",
              "    </tr>\n",
              "    <tr>\n",
              "      <th>0</th>\n",
              "      <td>0</td>\n",
              "      <td>0</td>\n",
              "      <td>0</td>\n",
              "      <td>0</td>\n",
              "      <td>0</td>\n",
              "      <td>0</td>\n",
              "      <td>0</td>\n",
              "      <td>0.996153</td>\n",
              "    </tr>\n",
              "    <tr>\n",
              "      <th>2</th>\n",
              "      <td>0</td>\n",
              "      <td>0</td>\n",
              "      <td>0</td>\n",
              "      <td>0</td>\n",
              "      <td>0</td>\n",
              "      <td>1</td>\n",
              "      <td>0</td>\n",
              "      <td>1.063322</td>\n",
              "    </tr>\n",
              "    <tr>\n",
              "      <th>3</th>\n",
              "      <td>0</td>\n",
              "      <td>0</td>\n",
              "      <td>0</td>\n",
              "      <td>0</td>\n",
              "      <td>1</td>\n",
              "      <td>0</td>\n",
              "      <td>0</td>\n",
              "      <td>1.021384</td>\n",
              "    </tr>\n",
              "    <tr>\n",
              "      <th>4</th>\n",
              "      <td>0</td>\n",
              "      <td>0</td>\n",
              "      <td>0</td>\n",
              "      <td>1</td>\n",
              "      <td>0</td>\n",
              "      <td>0</td>\n",
              "      <td>0</td>\n",
              "      <td>0.986748</td>\n",
              "    </tr>\n",
              "    <tr>\n",
              "      <th>5</th>\n",
              "      <td>0</td>\n",
              "      <td>0</td>\n",
              "      <td>1</td>\n",
              "      <td>0</td>\n",
              "      <td>0</td>\n",
              "      <td>0</td>\n",
              "      <td>0</td>\n",
              "      <td>1.019552</td>\n",
              "    </tr>\n",
              "    <tr>\n",
              "      <th>6</th>\n",
              "      <td>0</td>\n",
              "      <td>1</td>\n",
              "      <td>0</td>\n",
              "      <td>0</td>\n",
              "      <td>0</td>\n",
              "      <td>0</td>\n",
              "      <td>0</td>\n",
              "      <td>0.975297</td>\n",
              "    </tr>\n",
              "    <tr>\n",
              "      <th>7</th>\n",
              "      <td>1</td>\n",
              "      <td>0</td>\n",
              "      <td>0</td>\n",
              "      <td>0</td>\n",
              "      <td>0</td>\n",
              "      <td>0</td>\n",
              "      <td>0</td>\n",
              "      <td>1.026244</td>\n",
              "    </tr>\n",
              "  </tbody>\n",
              "</table>\n",
              "</div>"
            ],
            "text/plain": [
              "   Monday  Tuesday  Wednesday  ...  Saturday  Sunday  weighted_mean_likes\n",
              "1       0        0          0  ...         0       1             1.018463\n",
              "0       0        0          0  ...         0       0             0.996153\n",
              "2       0        0          0  ...         1       0             1.063322\n",
              "3       0        0          0  ...         0       0             1.021384\n",
              "4       0        0          0  ...         0       0             0.986748\n",
              "5       0        0          1  ...         0       0             1.019552\n",
              "6       0        1          0  ...         0       0             0.975297\n",
              "7       1        0          0  ...         0       0             1.026244\n",
              "\n",
              "[8 rows x 8 columns]"
            ]
          },
          "metadata": {
            "tags": []
          },
          "execution_count": 16
        }
      ]
    },
    {
      "cell_type": "code",
      "metadata": {
        "id": "6hagI3fosa8D",
        "colab_type": "code",
        "colab": {
          "base_uri": "https://localhost:8080/",
          "height": 533
        },
        "outputId": "180711bb-4a1d-49c7-a1fd-c7fc6c9aac0b"
      },
      "source": [
        "sns.distplot(new_metrics['weighted_mean_likes'], color=\"r\", kde=False)\n",
        "plt.title(\"Distribution of Likes Divided by Mean\")\n",
        "plt.ylabel(\"Number of Occurences\")\n",
        "plt.xlabel(\"Number of Likes Divided by Mean Likes for each user\");"
      ],
      "execution_count": null,
      "outputs": [
        {
          "output_type": "display_data",
          "data": {
            "image/png": "[encoded data removed]",
            "text/plain": [
              "<Figure size 842.4x595.44 with 1 Axes>"
            ]
          },
          "metadata": {
            "tags": []
          }
        }
      ]
    },
    {
      "cell_type": "markdown",
      "metadata": {
        "id": "acMFANMNE9H6",
        "colab_type": "text"
      },
      "source": [
        "Return unbiased skew over requested axis.\n",
        "\n"
      ]
    },
    {
      "cell_type": "markdown",
      "metadata": {
        "id": "-6ZQkeK32SPz",
        "colab_type": "text"
      },
      "source": [
        "$"
      ]
    },
    {
      "cell_type": "code",
      "metadata": {
        "id": "TGqjiqL-Elvu",
        "colab_type": "code",
        "colab": {
          "base_uri": "https://localhost:8080/",
          "height": 34
        },
        "outputId": "76acfe71-cf83-47c1-9e6e-f965c7d97576"
      },
      "source": [
        "# Measuring the skewness of the weighted_mean_likes column which \n",
        "# Skewness is the indication of symmetry in the distribution and the equatuin is E((X-mean)/(standard_deviation)**3)\n",
        "new_metrics['weighted_mean_likes'].skew()"
      ],
      "execution_count": null,
      "outputs": [
        {
          "output_type": "execute_result",
          "data": {
            "text/plain": [
              "3.5473315849085787"
            ]
          },
          "metadata": {
            "tags": []
          },
          "execution_count": 18
        }
      ]
    },
    {
      "cell_type": "code",
      "metadata": {
        "id": "JqWnt1i5Ewx9",
        "colab_type": "code",
        "colab": {
          "base_uri": "https://localhost:8080/",
          "height": 34
        },
        "outputId": "edb74937-3220-4972-ff78-5aaa4869d059"
      },
      "source": [
        "# measuring the Kurtosis of the weighted_mean_likes column.\n",
        "# Kurtosis measure the strength of long tail in the distribution and the equation is  E((X-mean)/(standard_deviation)**4)\n",
        "new_metrics['weighted_mean_likes'].kurt()"
      ],
      "execution_count": null,
      "outputs": [
        {
          "output_type": "execute_result",
          "data": {
            "text/plain": [
              "36.713053369616595"
            ]
          },
          "metadata": {
            "tags": []
          },
          "execution_count": 19
        }
      ]
    },
    {
      "cell_type": "code",
      "metadata": {
        "id": "g7KnjRIgFAx5",
        "colab_type": "code",
        "colab": {
          "base_uri": "https://localhost:8080/",
          "height": 533
        },
        "outputId": "e0e3f30b-94a5-4dd4-b6af-732a9ee3d57e"
      },
      "source": [
        "plt.scatter(new_metrics['followers'], new_metrics[\"weighted_mean_likes\"], color='orange')\n",
        "plt.title(\"Number of Likes Divided by Mean Likes vs Number of Followers\")\n",
        "plt.xlabel(\"Number of Followers\")\n",
        "plt.ylabel(\"Number of Likes Divided by Mean Likes\");"
      ],
      "execution_count": null,
      "outputs": [
        {
          "output_type": "display_data",
          "data": {
            "image/png": "[encoded data removed]",
            "text/plain": [
              "<Figure size 842.4x595.44 with 1 Axes>"
            ]
          },
          "metadata": {
            "tags": []
          }
        }
      ]
    },
    {
      "cell_type": "markdown",
      "metadata": {
        "id": "rJ8pSRfjHZUm",
        "colab_type": "text"
      },
      "source": [
        "# Training and Predictions with the model "
      ]
    },
    {
      "cell_type": "code",
      "metadata": {
        "id": "3MAd4JUtRTe-",
        "colab_type": "code",
        "colab": {
          "base_uri": "https://localhost:8080/",
          "height": 224
        },
        "outputId": "b1073126-ceed-4b21-d7ab-9515862634bc"
      },
      "source": [
        "new_metrics.drop(['post_url','username', 'date_posted', 'img_urls', 'concatenated_comments'], axis=1, inplace= True)\n",
        "new_metrics.sort_values(by = 'weighted_mean_likes', ascending = True, inplace= True)\n",
        "new_metrics.tail()"
      ],
      "execution_count": null,
      "outputs": [
        {
          "output_type": "execute_result",
          "data": {
            "text/html": [
              "<div>\n",
              "<style scoped>\n",
              "    .dataframe tbody tr th:only-of-type {\n",
              "        vertical-align: middle;\n",
              "    }\n",
              "\n",
              "    .dataframe tbody tr th {\n",
              "        vertical-align: top;\n",
              "    }\n",
              "\n",
              "    .dataframe thead th {\n",
              "        text-align: right;\n",
              "    }\n",
              "</style>\n",
              "<table border=\"1\" class=\"dataframe\">\n",
              "  <thead>\n",
              "    <tr style=\"text-align: right;\">\n",
              "      <th></th>\n",
              "      <th>max_likes</th>\n",
              "      <th>max_comments</th>\n",
              "      <th>followers</th>\n",
              "      <th>following</th>\n",
              "      <th>weighted_mean_likes</th>\n",
              "      <th>weighted_mean_comments</th>\n",
              "      <th>mean_likes</th>\n",
              "      <th>mean_comments</th>\n",
              "      <th>median_likes</th>\n",
              "      <th>Monday</th>\n",
              "      <th>Tuesday</th>\n",
              "      <th>Wednesday</th>\n",
              "      <th>Thursday</th>\n",
              "      <th>Friday</th>\n",
              "      <th>Saturday</th>\n",
              "      <th>Sunday</th>\n",
              "      <th>days_in_hashtag_top_section</th>\n",
              "      <th>number_of_posts</th>\n",
              "    </tr>\n",
              "  </thead>\n",
              "  <tbody>\n",
              "    <tr>\n",
              "      <th>1706</th>\n",
              "      <td>28732</td>\n",
              "      <td>92</td>\n",
              "      <td>47800</td>\n",
              "      <td>1</td>\n",
              "      <td>6.253734</td>\n",
              "      <td>2.016438</td>\n",
              "      <td>4594.375000</td>\n",
              "      <td>45.625000</td>\n",
              "      <td>3141.5</td>\n",
              "      <td>0</td>\n",
              "      <td>0</td>\n",
              "      <td>0</td>\n",
              "      <td>1</td>\n",
              "      <td>0</td>\n",
              "      <td>0</td>\n",
              "      <td>0</td>\n",
              "      <td>0</td>\n",
              "      <td>0</td>\n",
              "    </tr>\n",
              "    <tr>\n",
              "      <th>3868</th>\n",
              "      <td>30487</td>\n",
              "      <td>135</td>\n",
              "      <td>63600</td>\n",
              "      <td>15</td>\n",
              "      <td>6.448727</td>\n",
              "      <td>3.103448</td>\n",
              "      <td>4727.600000</td>\n",
              "      <td>43.500000</td>\n",
              "      <td>3338.5</td>\n",
              "      <td>0</td>\n",
              "      <td>0</td>\n",
              "      <td>0</td>\n",
              "      <td>1</td>\n",
              "      <td>0</td>\n",
              "      <td>0</td>\n",
              "      <td>0</td>\n",
              "      <td>0</td>\n",
              "      <td>0</td>\n",
              "    </tr>\n",
              "    <tr>\n",
              "      <th>2911</th>\n",
              "      <td>32346</td>\n",
              "      <td>498</td>\n",
              "      <td>96200</td>\n",
              "      <td>117</td>\n",
              "      <td>7.675192</td>\n",
              "      <td>5.528945</td>\n",
              "      <td>4214.357143</td>\n",
              "      <td>90.071429</td>\n",
              "      <td>1401.0</td>\n",
              "      <td>1</td>\n",
              "      <td>0</td>\n",
              "      <td>0</td>\n",
              "      <td>0</td>\n",
              "      <td>0</td>\n",
              "      <td>0</td>\n",
              "      <td>0</td>\n",
              "      <td>0</td>\n",
              "      <td>0</td>\n",
              "    </tr>\n",
              "    <tr>\n",
              "      <th>3120</th>\n",
              "      <td>54413</td>\n",
              "      <td>283</td>\n",
              "      <td>112000</td>\n",
              "      <td>1114</td>\n",
              "      <td>9.623617</td>\n",
              "      <td>3.265385</td>\n",
              "      <td>5654.111111</td>\n",
              "      <td>86.666667</td>\n",
              "      <td>2920.0</td>\n",
              "      <td>1</td>\n",
              "      <td>0</td>\n",
              "      <td>0</td>\n",
              "      <td>0</td>\n",
              "      <td>0</td>\n",
              "      <td>0</td>\n",
              "      <td>0</td>\n",
              "      <td>0</td>\n",
              "      <td>0</td>\n",
              "    </tr>\n",
              "    <tr>\n",
              "      <th>3406</th>\n",
              "      <td>3083</td>\n",
              "      <td>73</td>\n",
              "      <td>1649</td>\n",
              "      <td>1342</td>\n",
              "      <td>11.498964</td>\n",
              "      <td>2.246154</td>\n",
              "      <td>268.111111</td>\n",
              "      <td>32.500000</td>\n",
              "      <td>70.5</td>\n",
              "      <td>0</td>\n",
              "      <td>0</td>\n",
              "      <td>0</td>\n",
              "      <td>0</td>\n",
              "      <td>0</td>\n",
              "      <td>0</td>\n",
              "      <td>0</td>\n",
              "      <td>0</td>\n",
              "      <td>0</td>\n",
              "    </tr>\n",
              "  </tbody>\n",
              "</table>\n",
              "</div>"
            ],
            "text/plain": [
              "      max_likes  max_comments  ...  days_in_hashtag_top_section  number_of_posts\n",
              "1706      28732            92  ...                            0                0\n",
              "3868      30487           135  ...                            0                0\n",
              "2911      32346           498  ...                            0                0\n",
              "3120      54413           283  ...                            0                0\n",
              "3406       3083            73  ...                            0                0\n",
              "\n",
              "[5 rows x 18 columns]"
            ]
          },
          "metadata": {
            "tags": []
          },
          "execution_count": 21
        }
      ]
    },
    {
      "cell_type": "code",
      "metadata": {
        "id": "zHY1B0bcHYHS",
        "colab_type": "code",
        "colab": {}
      },
      "source": [
        "new_metrics_original = cp.deepcopy(new_metrics)\n",
        "X, y = new_metrics.drop('weighted_mean_likes',axis=1), new_metrics.weighted_mean_likes\n",
        "X_train, X_test, y_train, y_test = train_test_split(X, y, test_size=0.2, random_state=44)\n",
        "# X.info()"
      ],
      "execution_count": null,
      "outputs": []
    },
    {
      "cell_type": "code",
      "metadata": {
        "id": "STVUmg4jwQbv",
        "colab_type": "code",
        "colab": {}
      },
      "source": [
        "models = []\n",
        "models.append(('GBM',GradientBoostingRegressor()))\n",
        "models.append(('LR',LinearRegression()))\n",
        "models.append(('BYR', BayesianRidge()))\n",
        "models.append((\"KNN\", KNeighborsRegressor()))\n",
        "models.append(('XGB', xgb.XGBRegressor()))\n"
      ],
      "execution_count": null,
      "outputs": []
    },
    {
      "cell_type": "code",
      "metadata": {
        "id": "F6AjZnfJwwQS",
        "colab_type": "code",
        "colab": {
          "base_uri": "https://localhost:8080/",
          "height": 136
        },
        "outputId": "8ecb904e-7793-47aa-908b-e10d1b57ce43"
      },
      "source": [
        "for name,model in models:\n",
        "    kfold = KFold(n_splits=2, random_state=22)\n",
        "    cv_result = cross_val_score(model,X_train,y_train, cv = kfold, scoring = \"r2\")\n",
        "    print(name, cv_result)"
      ],
      "execution_count": null,
      "outputs": [
        {
          "output_type": "stream",
          "text": [
            "GBM [0.79100662 0.80876924]\n",
            "LR [0.24534761 0.27155094]\n",
            "BYR [0.24580863 0.27400119]\n",
            "KNN [0.47374952 0.54218482]\n",
            "[18:50:05] WARNING: /workspace/src/objective/regression_obj.cu:152: reg:linear is now deprecated in favor of reg:squarederror.\n",
            "[18:50:05] WARNING: /workspace/src/objective/regression_obj.cu:152: reg:linear is now deprecated in favor of reg:squarederror.\n",
            "XGB [0.78442338 0.81472936]\n"
          ],
          "name": "stdout"
        }
      ]
    },
    {
      "cell_type": "code",
      "metadata": {
        "id": "DtPl4eSet7x-",
        "colab_type": "code",
        "colab": {
          "base_uri": "https://localhost:8080/",
          "height": 238
        },
        "outputId": "7bbd3cb4-139c-4b47-8695-b5b6968a984e"
      },
      "source": [
        "X, y = new_metrics_original.drop('weighted_mean_likes', axis=1), new_metrics_original.weighted_mean_likes\n",
        "X_train2, X_test2, y_train2, y_test2 = train_test_split(X, y, test_size=0.2, shuffle = False)\n",
        "model = xgb.XGBRegressor()\n",
        "model.fit(X_train,y_train)\n",
        "predictions = model.predict(X_test2)\n",
        "y_train.head()\n",
        "compare = pd.DataFrame({'Prediction': predictions, 'Ground Truth' : y_test2})\n",
        "print(compare.tail(10))\n",
        "pred= sorted(predictions, reverse= True)\n",
        "print(pred[:10])\n"
      ],
      "execution_count": null,
      "outputs": [
        {
          "output_type": "stream",
          "text": [
            "[19:15:42] WARNING: /workspace/src/objective/regression_obj.cu:152: reg:linear is now deprecated in favor of reg:squarederror.\n",
            "       Prediction  Ground Truth\n",
            "4048     5.976807      5.518340\n",
            "10091    3.592964      5.602607\n",
            "10917    5.343872      5.697391\n",
            "3451     4.395563      5.768078\n",
            "5364     5.564166      5.918774\n",
            "1706     5.726154      6.253734\n",
            "3868     5.595409      6.448727\n",
            "2911     6.724216      7.675192\n",
            "3120     7.076157      9.623617\n",
            "3406     9.577948     11.498964\n",
            "[9.577948, 7.076157, 6.7242155, 5.9768066, 5.7261543, 5.595409, 5.5641656, 5.343872, 4.4611506, 4.452263]\n"
          ],
          "name": "stdout"
        }
      ]
    },
    {
      "cell_type": "markdown",
      "metadata": {
        "id": "lg8L8eNqhXqj",
        "colab_type": "text"
      },
      "source": [
        "Top 5 predicted post are as follows:\n",
        "\n"
      ]
    },
    {
      "cell_type": "code",
      "metadata": {
        "id": "reXA1G1U9B0G",
        "colab_type": "code",
        "colab": {
          "base_uri": "https://localhost:8080/",
          "height": 119
        },
        "outputId": "5fc1795c-8674-41cd-a45f-85c2bf05fdfc"
      },
      "source": [
        "metrics.loc[[3406, 3120, 2911, 4048, 1706], 'post_url']"
      ],
      "execution_count": null,
      "outputs": [
        {
          "output_type": "execute_result",
          "data": {
            "text/plain": [
              "3406    https://www.instagram.com/p/B_NkieupTpm/\n",
              "3120    https://www.instagram.com/p/B_SkEZOB50m/\n",
              "2911    https://www.instagram.com/p/B_DUCGpJvA8/\n",
              "4048    https://www.instagram.com/p/B-2Uhffhixi/\n",
              "1706    https://www.instagram.com/p/B_FGAgSpf8j/\n",
              "Name: post_url, dtype: object"
            ]
          },
          "metadata": {
            "tags": []
          },
          "execution_count": 26
        }
      ]
    },
    {
      "cell_type": "markdown",
      "metadata": {
        "id": "J7UbupEXkuiD",
        "colab_type": "text"
      },
      "source": [
        "# Further Improvement\n",
        "\n",
        "As it is shown in the previous section, the current model can predict the weighted mean(average) of likes for the top trending post with 80% accuracy. For even further improvements,  it is possible to extract more features from images, comments and captions and use ensemble models to increase the prediction accuracy. \n",
        "\n",
        "## Image features and model :\n",
        "\n",
        "They are multiple features can be extracted from the imgeas/videos:\n",
        "\n",
        "1- Number of Indivisuals \n",
        "<br>\n",
        "2- Facial Expression (smile, wink, ...) \n",
        "<br>\n",
        "3- Animal detections(birds, cat, dog ..) \n",
        "<br>\n",
        "\n",
        "For the Image recognition model, as this a computer vision task, OpenCV library can generate the best model using many implemented tools for feature extraction and facial recognition classification.\n",
        "\n",
        "## Text(captions/comments) features and model : \n",
        "\n",
        "First thing for the text is to make sure, all the comments/captions are translated to unique language(English) using Google translate free API. \n",
        "After that, multiple features can be extracted from the comments and captions:\n",
        "\n",
        "1- locations \n",
        "<br>\n",
        "2- hashtags \n",
        "<br>\n",
        "3- biography \n",
        "<br>\n",
        "4- suprising moment(Marriage proposal,..)\n",
        "<br>\n",
        "5- shocking indcients(Death, Accident, ..)\n",
        "<br>\n",
        "\n",
        "For this model, as this a natural language processing(NLP) task, we can use TextBlob for sentiment analysis which  the overal score of comments and captions can be calculated using positive (+1 score), negative (-1 score) and neutral(0 score) for each comments/captions. \n"
      ]
    }
  ]
}